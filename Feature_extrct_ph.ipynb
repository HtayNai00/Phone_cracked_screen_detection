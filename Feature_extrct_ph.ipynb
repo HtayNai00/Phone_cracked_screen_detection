{
 "cells": [
  {
   "cell_type": "code",
   "execution_count": 1,
   "metadata": {},
   "outputs": [],
   "source": [
    "import os\n",
    "import cv2"
   ]
  },
  {
   "cell_type": "code",
   "execution_count": 2,
   "metadata": {},
   "outputs": [],
   "source": [
    "base_dir = r\"phone_defect_detect\"\n",
    "\n",
    "sub_dirs = [\"defect_phone\", \"good_phone\", \"New_phone\"]\n"
   ]
  },
  {
   "cell_type": "markdown",
   "metadata": {},
   "source": [
    "### Open all of the Images folders"
   ]
  },
  {
   "cell_type": "code",
   "execution_count": 3,
   "metadata": {},
   "outputs": [
    {
     "name": "stdout",
     "output_type": "stream",
     "text": [
      "\n",
      "Opening images in folder: defect_phone\n",
      "Displaying: HuaweiNovaY72.jpg\n",
      "\n",
      "Opening images in folder: good_phone\n",
      "Displaying: good.jpg\n",
      "\n",
      "Opening images in folder: New_phone\n"
     ]
    }
   ],
   "source": [
    "#pip install --user opencv-contrib-python\n",
    "\n",
    "for sub_dir in sub_dirs:\n",
    "    folder_path = os.path.join(base_dir, sub_dir)\n",
    "    if os.path.exists(folder_path):\n",
    "        print(f\"\\nOpening images in folder: {sub_dir}\")\n",
    "        files = [f for f in os.listdir(folder_path) if f.endswith('.jpg')]\n",
    "        for file_name in files:\n",
    "            file_path = os.path.join(folder_path, file_name)\n",
    "            print(f\"Displaying: {file_name}\")\n",
    "            image = cv2.imread(file_path)\n",
    "            cv2.imshow(f\"{sub_dir} - {file_name}\", image)\n",
    "            key = cv2.waitKey(0)\n",
    "            if key == 27:\n",
    "                break\n",
    "        cv2.destroyAllWindows()\n",
    "    else:\n",
    "        print(f\"Folder {sub_dir} does not exist.\")"
   ]
  },
  {
   "cell_type": "markdown",
   "metadata": {},
   "source": [
    "### Crate output folder for Processing Images"
   ]
  },
  {
   "cell_type": "code",
   "execution_count": null,
   "metadata": {},
   "outputs": [],
   "source": [
    "output_base_dir = os.path.join(base_dir, \"processed_img\")\n",
    "os.makedirs(output_base_dir, exist_ok=True)"
   ]
  },
  {
   "cell_type": "markdown",
   "metadata": {},
   "source": [
    "### Define Each preprocessing techniques"
   ]
  },
  {
   "cell_type": "code",
   "execution_count": null,
   "metadata": {},
   "outputs": [],
   "source": [
    "preprocess = transforms.Compose([\n",
    "    transforms.Resize((224, 224)),\n",
    "    transforms.ToTensor(),\n",
    "    transforms.Normalize(mean=[0.485, 0.456, 0.406], std=[0.229, 0.224, 0.225])\n",
    "])\n",
    "\n",
    "def edge_detection(image):\n",
    "    gray = cv2.cvtColor(image, cv2.COLOR_BGR2GRAY)\n",
    "    edges = cv2.Canny(gray, threshold1= 50, threshold2=150)\n",
    "    return edges\n",
    "\n",
    "def apply_clahe(image):\n",
    "    gray = cv2.cvtColor(image, cv2.COLOR_BGR2GRAY)\n",
    "    clahe = cv2.createCLAHE(clipLimit=2.0, tileGridSize=(8,8))\n",
    "    enhanced = clahe.apply(gray)\n",
    "    return enhanced\n",
    "\n",
    "def denoise_image(image):\n",
    "    denoised = cv2.fastNlMeansDenoisingColored(image, None, h=10, hForColor=10, templateWindowSize=7)\n",
    "    return denoised\n",
    "\n",
    "def apply_fourier_transform(image):\n",
    "    gray = cv2.cvtColor(image, cv2.COLOR_BGR2GRAY)\n",
    "    f = np.fft.fft2(gray)\n",
    "    fshift = np.fft.fftshift(f)\n",
    "    magnitude_spectrum = 20 * np.log(np.abs(fshift))\n",
    "    return magnitude_spectrum\n"
   ]
  },
  {
   "cell_type": "code",
   "execution_count": null,
   "metadata": {},
   "outputs": [],
   "source": [
    "\n",
    "for sub_dir in sub_dirs:\n",
    "    folder_path = os.path.join(base_dir, sub_dir)\n",
    "    output_dir = os.path.join(output_base_dir, sub_dir)\n",
    "    os.makedirs(output_dir, exist_ok=True)\n",
    "\n",
    "    if os.path.exists(folder_path):\n",
    "        print(f\"\\nProcessing images in folder: {sub_dir}\")\n",
    "        files = [f for f in os.listdir(folder_path) if f.endswith('.jpg')]\n",
    "\n",
    "        for file_name in files:\n",
    "            file_path = os.path.join(folder_path, file_name)\n",
    "            print(f\"Processing: {file_name}\")\n",
    "            image = cv2.imread(file_path)\n",
    "\n",
    "            resized = cv2.resize(image, (224, 224))\n",
    "            edges = edge_detection(image)\n",
    "            clahe_image = apply_clahe(image)\n",
    "            denoised = denoise_image(image)\n",
    "            fourier = apply_fourier_transform(image)\n",
    "\n",
    "            cv2.imwrite(os.path.join(output_dir, f\"{os.path.splitext(file_name)[0]}_resized.jpg\"), resized)\n",
    "            cv2.imwrite(os.path.join(output_dir, f\"{os.path.splitext(file_name)[0]}_edges.jpg\"), edges)\n",
    "            cv2.imwrite(os.path.join(output_dir, f\"{os.path.splitext(file_name)[0]}_clahe.jpg\"), clahe_image)\n",
    "            cv2.imwrite(os.path.join(output_dir, f\"{os.path.splitext(file_name)[0]}_denoised.jpg\"), denoised)\n",
    "            plt.imsave(os.path.join(output_dir, f\"{os.path.splitext(file_name)[0]}_fourier.jpg\"), fourier, cmap='gray')\n",
    "\n",
    "            plt.figure(figsize=(10, 6))\n",
    "            plt.subplot(2, 3, 1)\n",
    "            plt.imshow(cv2.cvtColor(resized, cv2.COLOR_BGR2RGB))\n",
    "            plt.title(\"Resized\")\n",
    "            plt.axis(\"off\")\n",
    "\n",
    "            plt.subplot(2, 3, 2)\n",
    "            plt.imshow(edges, cmap=\"gray\")\n",
    "            plt.title(\"Edge Detection\")\n",
    "            plt.axis(\"off\")\n",
    "\n",
    "            plt.subplot(2, 3, 3)\n",
    "            plt.imshow(clahe_image, cmap='gray')\n",
    "            plt.title(\"CLAHE\")\n",
    "            plt.axis(\"off\")\n",
    "\n",
    "            plt.subplot(2, 3, 4)\n",
    "            plt.imshow(cv2.cvtColor(denoised, cv2.COLOR_BGR2GRAY))\n",
    "            plt.title(\"Denoised\")\n",
    "            plt.axis(\"off\")\n",
    "\n",
    "            plt.subplot(2, 3, 5)\n",
    "            plt.imshow(fourier, cmap='gray')\n",
    "            plt.title(\"Fourier Transform\")\n",
    "            plt.axis(\"off\")\n",
    "\n",
    "            plt.tight_layout()\n",
    "            plt.show()\n",
    "\n",
    "else:\n",
    "    print(f\"Folder {sub_dir} does not exist.\")"
   ]
  }
 ],
 "metadata": {
  "kernelspec": {
   "display_name": "ph_1",
   "language": "python",
   "name": "python3"
  },
  "language_info": {
   "codemirror_mode": {
    "name": "ipython",
    "version": 3
   },
   "file_extension": ".py",
   "mimetype": "text/x-python",
   "name": "python",
   "nbconvert_exporter": "python",
   "pygments_lexer": "ipython3",
   "version": "3.10.16"
  }
 },
 "nbformat": 4,
 "nbformat_minor": 2
}
